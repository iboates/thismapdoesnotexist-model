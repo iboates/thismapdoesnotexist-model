{
  "nbformat": 4,
  "nbformat_minor": 0,
  "metadata": {
    "colab": {
      "name": "project-stylegan2-osm.ipynb",
      "provenance": [],
      "toc_visible": true,
      "mount_file_id": "16IGcod_0sQaDnQg9vhH0DkJi6yR3Rnb0",
      "authorship_tag": "ABX9TyNB5xsLxYJBUSwqrC0cweFc",
      "include_colab_link": true
    },
    "kernelspec": {
      "name": "python3",
      "display_name": "Python 3"
    },
    "accelerator": "GPU"
  },
  "cells": [
    {
      "cell_type": "markdown",
      "metadata": {
        "id": "view-in-github",
        "colab_type": "text"
      },
      "source": [
        "<a href=\"https://colab.research.google.com/github/iboates/thismapdoesnotexist-model/blob/master/colab/stylegan2_osm.ipynb\" target=\"_parent\"><img src=\"https://colab.research.google.com/assets/colab-badge.svg\" alt=\"Open In Colab\"/></a>"
      ]
    },
    {
      "cell_type": "markdown",
      "metadata": {
        "id": "5iFLjRkfs2gG"
      },
      "source": [
        "# Setup"
      ]
    },
    {
      "cell_type": "code",
      "metadata": {
        "id": "IJ3QclqIdxqh"
      },
      "source": [
        "%tensorflow_version 1.x\n",
        "!git clone https://github.com/NVlabs/stylegan2"
      ],
      "execution_count": null,
      "outputs": []
    },
    {
      "cell_type": "markdown",
      "metadata": {
        "id": "mW6nNpMumY6i"
      },
      "source": [
        "# Generate Images"
      ]
    },
    {
      "cell_type": "code",
      "metadata": {
        "id": "GCzaJJHKml0E"
      },
      "source": [
        "!python /content/stylegan2/run_generator.py generate-images \\\n",
        "--network /content/network-snapshot-003951.pkl \\\n",
        "--seeds 0-9 \\"
      ],
      "execution_count": null,
      "outputs": []
    },
    {
      "cell_type": "markdown",
      "metadata": {
        "id": "v22UVetPs_GK"
      },
      "source": [
        "# Generate Morphing Video"
      ]
    },
    {
      "cell_type": "code",
      "metadata": {
        "id": "mvpgX_w6g5HH"
      },
      "source": [
        "!python /content/stylegan2/run_projector.py project-generated-images \\\n",
        "--network /content/network-snapshot-003951.pkl \\\n",
        "--seeds 347586 \\\n",
        "--num-snapshots 1000"
      ],
      "execution_count": null,
      "outputs": []
    },
    {
      "cell_type": "code",
      "metadata": {
        "id": "8VbbATQirux1"
      },
      "source": [
        "!ffmpeg -y -i /content/results/00005-project-generated-images/seed347586-step%4d.png -c:v libx264 -vf fps=25 -pix_fmt yuv420p out.mp4"
      ],
      "execution_count": null,
      "outputs": []
    }
  ]
}